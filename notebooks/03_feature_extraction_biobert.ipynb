{
 "cells": [
  {
   "cell_type": "code",
   "execution_count": 1,
   "id": "a33b44a9",
   "metadata": {},
   "outputs": [],
   "source": [
    "import sys\n",
    "\n",
    "sys.path.append(r'd:\\work\\paper-biobert')"
   ]
  },
  {
   "cell_type": "code",
   "execution_count": null,
   "id": "352c8003",
   "metadata": {},
   "outputs": [
    {
     "name": "stderr",
     "output_type": "stream",
     "text": [
      "d:\\work\\paper-biobert\\venv\\Lib\\site-packages\\tqdm\\auto.py:21: TqdmWarning: IProgress not found. Please update jupyter and ipywidgets. See https://ipywidgets.readthedocs.io/en/stable/user_install.html\n",
      "  from .autonotebook import tqdm as notebook_tqdm\n"
     ]
    }
   ],
   "source": [
    "from src.data_loader import load_data\n",
    "from src.feature_extraction import get_biobert_embeddings\n",
    "from sklearn.preprocessing import LabelEncoder\n",
    "import numpy as np\n",
    "import joblib"
   ]
  },
  {
   "cell_type": "code",
   "execution_count": 3,
   "id": "66d8ea03",
   "metadata": {},
   "outputs": [
    {
     "name": "stderr",
     "output_type": "stream",
     "text": [
      "Batches: 100%|██████████| 568/568 [01:11<00:00,  7.91it/s]\n",
      "Batches: 100%|██████████| 71/71 [00:10<00:00,  6.70it/s]\n",
      "Batches: 100%|██████████| 71/71 [00:09<00:00,  7.64it/s]\n"
     ]
    }
   ],
   "source": [
    "train_df=load_data('../data/clean/chaptertrain.csv')\n",
    "val_df=load_data('../data/clean/chaptervalidation.csv')\n",
    "test_df=load_data('../data/clean/chaptertest.csv')\n",
    "\n",
    "train_embeddings=get_biobert_embeddings(\n",
    "    train_df['Nama_Penyakit'].tolist(),\n",
    "    batch_size=16,\n",
    "    save_path='../data/clean/biobert_train.npy'\n",
    ")\n",
    "\n",
    "val_embeddings=get_biobert_embeddings(\n",
    "    val_df['Nama_Penyakit'].tolist(),\n",
    "    batch_size=16,\n",
    "    save_path='../data/clean/biobert_validation.npy'\n",
    ")\n",
    "\n",
    "test_embeddings=get_biobert_embeddings(\n",
    "    test_df['Nama_Penyakit'].tolist(),\n",
    "    batch_size=16,\n",
    "    save_path='../data/clean/biobert_test.npy'\n",
    ")"
   ]
  },
  {
   "cell_type": "code",
   "execution_count": null,
   "id": "28f34f8d",
   "metadata": {},
   "outputs": [],
   "source": [
    "label_encoder=joblib.load('../data/clean/labelencoder.pkl')\n",
    "biobert_ytrain=label_encoder.fit_transform(train_df['Label'])\n",
    "biobert_yval=label_encoder.fit_transform(val_df['Label'])\n",
    "biobert_ytest=label_encoder.fit_transform(test_df['Label'])"
   ]
  },
  {
   "cell_type": "code",
   "execution_count": 5,
   "id": "9e6aefd8",
   "metadata": {},
   "outputs": [],
   "source": [
    "np.save('../data/clean/biobert_ytrain.npy', biobert_ytrain)\n",
    "np.save('../data/clean/biobert_yval.npy', biobert_yval)\n",
    "np.save('../data/clean/biobert_ytest.npy', biobert_ytest)"
   ]
  },
  {
   "cell_type": "code",
   "execution_count": null,
   "id": "c8bbc678",
   "metadata": {},
   "outputs": [],
   "source": []
  }
 ],
 "metadata": {
  "kernelspec": {
   "display_name": "venv",
   "language": "python",
   "name": "python3"
  },
  "language_info": {
   "codemirror_mode": {
    "name": "ipython",
    "version": 3
   },
   "file_extension": ".py",
   "mimetype": "text/x-python",
   "name": "python",
   "nbconvert_exporter": "python",
   "pygments_lexer": "ipython3",
   "version": "3.12.5"
  }
 },
 "nbformat": 4,
 "nbformat_minor": 5
}
