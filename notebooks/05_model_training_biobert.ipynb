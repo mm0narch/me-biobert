{
 "cells": [
  {
   "cell_type": "code",
   "execution_count": 4,
   "id": "2fce1b18",
   "metadata": {},
   "outputs": [],
   "source": [
    "import sys\n",
    "\n",
    "sys.path.append(r'd:\\work\\paper-biobert')"
   ]
  },
  {
   "cell_type": "code",
   "execution_count": null,
   "id": "41444301",
   "metadata": {},
   "outputs": [],
   "source": [
    "import numpy as np\n",
    "from src.models import train_model, models\n",
    "import joblib\n",
    "from sklearn.metrics import classification_report, accuracy_score"
   ]
  },
  {
   "cell_type": "code",
   "execution_count": 6,
   "id": "0831e9cd",
   "metadata": {},
   "outputs": [
    {
     "name": "stdout",
     "output_type": "stream",
     "text": [
      "Train shape: (9080, 768)\n",
      "Test shape: (1135, 768)\n",
      "Train labels: (9080,)\n",
      "Test labels: {1135}\n"
     ]
    }
   ],
   "source": [
    "X_train=np.load('../data/clean/biobert_train.npy')\n",
    "y_train=np.load('../data/clean/biobert_ytrain.npy')\n",
    "\n",
    "X_test=np.load('../data/clean/biobert_test.npy')\n",
    "y_test=np.load('../data/clean/biobert_ytest.npy')\n",
    "\n",
    "print('Train shape:', X_train.shape)\n",
    "print('Test shape:', X_test.shape)\n",
    "print('Train labels:', y_train.shape)\n",
    "print('Test labels:', {len(y_test)})"
   ]
  },
  {
   "cell_type": "code",
   "execution_count": 8,
   "id": "05d08774",
   "metadata": {},
   "outputs": [
    {
     "name": "stderr",
     "output_type": "stream",
     "text": [
      "Training models: 100%|██████████| 4/4 [05:57<00:00, 89.25s/model] \n"
     ]
    }
   ],
   "source": [
    "model_training=train_model(models, X_train, y_train)"
   ]
  },
  {
   "cell_type": "code",
   "execution_count": 9,
   "id": "95b3fe43",
   "metadata": {},
   "outputs": [
    {
     "name": "stdout",
     "output_type": "stream",
     "text": [
      "4\n"
     ]
    }
   ],
   "source": [
    "print(len(model_training))"
   ]
  },
  {
   "cell_type": "code",
   "execution_count": null,
   "id": "99d936ba",
   "metadata": {},
   "outputs": [],
   "source": [
    "for model_info in model_training:\n",
    "    name=model_info['name']\n",
    "    model=model_info['model']\n",
    "\n",
    "    y_pred=model.predict(X_test)\n",
    "\n",
    "    accuracy=accuracy_score(y_test, y_pred)\n",
    "\n",
    "    print(f'Model: {name}')\n",
    "    print(f'Accuracy: {accuracy:.4f}')\n",
    "    print(classification_report(y_test, y_pred))\n",
    "    print('-' * 50)"
   ]
  },
  {
   "cell_type": "code",
   "execution_count": null,
   "id": "75e9df6c",
   "metadata": {},
   "outputs": [],
   "source": [
    "for model_info in model_training:\n",
    "    name=model_info['name']\n",
    "    model=model_info['model']\n",
    "    save_path=f'../models/saved/biobert/{name.replace(' ','_').lower()}.joblib'\n",
    "    joblib.dump(model, save_path)\n",
    "    "
   ]
  }
 ],
 "metadata": {
  "kernelspec": {
   "display_name": "venv",
   "language": "python",
   "name": "python3"
  },
  "language_info": {
   "codemirror_mode": {
    "name": "ipython",
    "version": 3
   },
   "file_extension": ".py",
   "mimetype": "text/x-python",
   "name": "python",
   "nbconvert_exporter": "python",
   "pygments_lexer": "ipython3",
   "version": "3.12.5"
  }
 },
 "nbformat": 4,
 "nbformat_minor": 5
}
