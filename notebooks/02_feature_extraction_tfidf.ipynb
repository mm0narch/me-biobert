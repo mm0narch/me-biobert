{
 "cells": [
  {
   "cell_type": "code",
   "execution_count": 1,
   "id": "23956d43",
   "metadata": {},
   "outputs": [],
   "source": [
    "import sys\n",
    "\n",
    "sys.path.append(r'd:\\work\\paper-biobert')"
   ]
  },
  {
   "cell_type": "code",
   "execution_count": 2,
   "id": "ec8cf5ef",
   "metadata": {},
   "outputs": [
    {
     "name": "stderr",
     "output_type": "stream",
     "text": [
      "d:\\work\\paper-biobert\\venv\\Lib\\site-packages\\tqdm\\auto.py:21: TqdmWarning: IProgress not found. Please update jupyter and ipywidgets. See https://ipywidgets.readthedocs.io/en/stable/user_install.html\n",
      "  from .autonotebook import tqdm as notebook_tqdm\n"
     ]
    }
   ],
   "source": [
    "from src.data_loader import load_data\n",
    "from src.feature_extraction import get_tfidf_features\n",
    "import os\n",
    "import joblib\n",
    "from scipy import sparse"
   ]
  },
  {
   "cell_type": "code",
   "execution_count": 3,
   "id": "93af447d",
   "metadata": {},
   "outputs": [],
   "source": [
    "train_df=load_data('../data/clean/chaptertrain.csv')\n",
    "val_df=load_data('../data/clean/chaptervalidation.csv')\n",
    "test_df=load_data('../data/clean/chaptertest.csv')\n",
    "\n",
    "train_features, vectorizer=get_tfidf_features(\n",
    "    train_df['Nama_Penyakit'].tolist(),\n",
    "    save_path='../data/clean/tfidf_train.npz'\n",
    ")\n",
    "\n",
    "val_features=vectorizer.transform(val_df['Nama_Penyakit'])\n",
    "test_features=vectorizer.transform(test_df['Nama_Penyakit'])\n",
    "\n",
    "os.makedirs('../data/clean', exist_ok=True)\n",
    "joblib.dump(vectorizer, '../data/clean/tfidf_vectorizer.pkl')\n",
    "\n",
    "sparse.save_npz('../data/clean/tfidf_validation.npz', val_features)\n",
    "sparse.save_npz('../data/clean/tfidf_test.npz', test_features)\n"
   ]
  },
  {
   "cell_type": "code",
   "execution_count": null,
   "id": "08cf4fad",
   "metadata": {},
   "outputs": [],
   "source": [
    "label_encoder=joblin.load('../data/clean/labelencoder.pk')"
   ]
  }
 ],
 "metadata": {
  "kernelspec": {
   "display_name": "venv",
   "language": "python",
   "name": "python3"
  },
  "language_info": {
   "codemirror_mode": {
    "name": "ipython",
    "version": 3
   },
   "file_extension": ".py",
   "mimetype": "text/x-python",
   "name": "python",
   "nbconvert_exporter": "python",
   "pygments_lexer": "ipython3",
   "version": "3.12.5"
  }
 },
 "nbformat": 4,
 "nbformat_minor": 5
}
