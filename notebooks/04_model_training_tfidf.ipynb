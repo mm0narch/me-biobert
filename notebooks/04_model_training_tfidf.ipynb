{
 "cells": [
  {
   "cell_type": "code",
   "execution_count": 28,
   "id": "adde9477",
   "metadata": {},
   "outputs": [],
   "source": [
    "import sys\n",
    "\n",
    "sys.path.append(r'd:\\work\\paper-biobert')"
   ]
  },
  {
   "cell_type": "code",
   "execution_count": 39,
   "id": "e7d295d7",
   "metadata": {},
   "outputs": [],
   "source": [
    "import numpy as np\n",
    "from scipy import sparse\n",
    "from src.models import train_model, models\n",
    "import joblib\n",
    "from sklearn.metrics import classification_report, accuracy_score"
   ]
  },
  {
   "cell_type": "code",
   "execution_count": 30,
   "id": "aeff1933",
   "metadata": {},
   "outputs": [
    {
     "name": "stdout",
     "output_type": "stream",
     "text": [
      "Train shape (9080, 4796)\n",
      "Test shape: (1135, 4796)\n",
      "Train labels: (9080,)\n",
      "Test labels: (1135,)\n"
     ]
    }
   ],
   "source": [
    "X_train=sparse.load_npz('../data/clean/tfidf_train.npz')\n",
    "X_test=sparse.load_npz('../data/clean/tfidf_test.npz')\n",
    "\n",
    "y_train=np.load('../data/clean/tfidf_ytrain.npz.npy')\n",
    "y_test=np.load('../data/clean/tfidf_ytest.npz.npy')\n",
    "\n",
    "print('Train shape', X_train.shape)\n",
    "print('Test shape:', X_test.shape)\n",
    "print('Train labels:', y_train.shape)\n",
    "print('Test labels:', y_test.shape)"
   ]
  },
  {
   "cell_type": "code",
   "execution_count": 31,
   "id": "7d9526ca",
   "metadata": {},
   "outputs": [
    {
     "name": "stderr",
     "output_type": "stream",
     "text": [
      "Training models: 100%|██████████| 4/4 [00:33<00:00,  8.42s/model]\n"
     ]
    }
   ],
   "source": [
    "model_training=train_model(models, X_train, y_train)"
   ]
  },
  {
   "cell_type": "code",
   "execution_count": null,
   "id": "c48dd7e3",
   "metadata": {},
   "outputs": [
    {
     "name": "stdout",
     "output_type": "stream",
     "text": [
      "Accuracy: 0.8379\n",
      "Model: SVC\n",
      "              precision    recall  f1-score   support\n",
      "\n",
      "           0       0.64      0.95      0.77        94\n",
      "           1       0.87      0.93      0.90        89\n",
      "           2       0.80      0.80      0.80        20\n",
      "           3       0.91      0.84      0.87        37\n",
      "           4       0.95      0.78      0.86        46\n",
      "           5       0.97      0.94      0.96        36\n",
      "           6       0.78      0.72      0.75        40\n",
      "           7       0.96      0.84      0.90        32\n",
      "           8       0.60      0.64      0.62        14\n",
      "           9       0.82      0.79      0.81        29\n",
      "          10       0.86      0.80      0.83        46\n",
      "          11       0.95      0.85      0.90        41\n",
      "          12       0.93      0.80      0.86        64\n",
      "          13       0.97      0.73      0.83        44\n",
      "          14       0.85      0.81      0.83       148\n",
      "          15       0.90      0.91      0.91        47\n",
      "          16       0.95      0.93      0.94        40\n",
      "          17       0.82      0.87      0.84        71\n",
      "          18       0.75      0.51      0.61        35\n",
      "          19       0.75      0.83      0.79        90\n",
      "          20       0.90      0.90      0.90        71\n",
      "          21       0.00      0.00      0.00         1\n",
      "\n",
      "    accuracy                           0.84      1135\n",
      "   macro avg       0.82      0.78      0.79      1135\n",
      "weighted avg       0.85      0.84      0.84      1135\n",
      "\n",
      "==================================================\n",
      "Accuracy: 0.2185\n",
      "Model: Decision Tree\n",
      "              precision    recall  f1-score   support\n",
      "\n",
      "           0       0.12      0.88      0.21        94\n",
      "           1       1.00      0.08      0.15        89\n",
      "           2       0.00      0.00      0.00        20\n",
      "           3       0.00      0.00      0.00        37\n",
      "           4       0.00      0.00      0.00        46\n",
      "           5       1.00      0.06      0.11        36\n",
      "           6       0.00      0.00      0.00        40\n",
      "           7       0.00      0.00      0.00        32\n",
      "           8       0.00      0.00      0.00        14\n",
      "           9       0.00      0.00      0.00        29\n",
      "          10       0.26      0.11      0.15        46\n",
      "          11       0.00      0.00      0.00        41\n",
      "          12       1.00      0.09      0.17        64\n",
      "          13       0.00      0.00      0.00        44\n",
      "          14       0.30      0.71      0.42       148\n",
      "          15       0.83      0.11      0.19        47\n",
      "          16       0.00      0.00      0.00        40\n",
      "          17       0.00      0.00      0.00        71\n",
      "          18       0.00      0.00      0.00        35\n",
      "          19       0.79      0.21      0.33        90\n",
      "          20       0.94      0.23      0.36        71\n",
      "          21       0.00      0.00      0.00         1\n",
      "\n",
      "    accuracy                           0.22      1135\n",
      "   macro avg       0.28      0.11      0.10      1135\n",
      "weighted avg       0.38      0.22      0.16      1135\n",
      "\n",
      "==================================================\n",
      "Accuracy: 0.4493\n",
      "Model: Random Forest\n",
      "              precision    recall  f1-score   support\n",
      "\n",
      "           0       0.18      0.84      0.30        94\n",
      "           1       0.78      0.44      0.56        89\n",
      "           2       0.00      0.00      0.00        20\n",
      "           3       0.71      0.27      0.39        37\n",
      "           4       1.00      0.11      0.20        46\n",
      "           5       0.75      0.42      0.54        36\n",
      "           6       1.00      0.03      0.05        40\n",
      "           7       1.00      0.03      0.06        32\n",
      "           8       0.00      0.00      0.00        14\n",
      "           9       1.00      0.14      0.24        29\n",
      "          10       1.00      0.04      0.08        46\n",
      "          11       0.88      0.17      0.29        41\n",
      "          12       0.92      0.17      0.29        64\n",
      "          13       1.00      0.05      0.09        44\n",
      "          14       0.36      0.86      0.51       148\n",
      "          15       0.90      0.57      0.70        47\n",
      "          16       0.97      0.82      0.89        40\n",
      "          17       0.88      0.54      0.67        71\n",
      "          18       0.89      0.23      0.36        35\n",
      "          19       0.81      0.64      0.72        90\n",
      "          20       0.89      0.59      0.71        71\n",
      "          21       0.00      0.00      0.00         1\n",
      "\n",
      "    accuracy                           0.45      1135\n",
      "   macro avg       0.72      0.32      0.35      1135\n",
      "weighted avg       0.74      0.45      0.43      1135\n",
      "\n",
      "==================================================\n",
      "Accuracy: 0.7084\n",
      "Model: XGBoost\n",
      "              precision    recall  f1-score   support\n",
      "\n",
      "           0       0.39      0.88      0.54        94\n",
      "           1       0.86      0.82      0.84        89\n",
      "           2       0.82      0.45      0.58        20\n",
      "           3       0.68      0.51      0.58        37\n",
      "           4       0.94      0.70      0.80        46\n",
      "           5       0.76      0.89      0.82        36\n",
      "           6       0.66      0.62      0.64        40\n",
      "           7       0.89      0.75      0.81        32\n",
      "           8       0.56      0.36      0.43        14\n",
      "           9       0.55      0.59      0.57        29\n",
      "          10       0.70      0.61      0.65        46\n",
      "          11       0.88      0.51      0.65        41\n",
      "          12       0.83      0.53      0.65        64\n",
      "          13       0.72      0.52      0.61        44\n",
      "          14       0.76      0.81      0.78       148\n",
      "          15       0.86      0.81      0.84        47\n",
      "          16       0.85      0.88      0.86        40\n",
      "          17       0.72      0.68      0.70        71\n",
      "          18       0.62      0.46      0.52        35\n",
      "          19       0.79      0.73      0.76        90\n",
      "          20       0.90      0.79      0.84        71\n",
      "          21       0.00      0.00      0.00         1\n",
      "\n",
      "    accuracy                           0.71      1135\n",
      "   macro avg       0.71      0.63      0.66      1135\n",
      "weighted avg       0.75      0.71      0.71      1135\n",
      "\n",
      "==================================================\n"
     ]
    },
    {
     "name": "stderr",
     "output_type": "stream",
     "text": [
      "d:\\work\\me-biobert\\venv\\Lib\\site-packages\\sklearn\\metrics\\_classification.py:1731: UndefinedMetricWarning: Precision is ill-defined and being set to 0.0 in labels with no predicted samples. Use `zero_division` parameter to control this behavior.\n",
      "  _warn_prf(average, modifier, f\"{metric.capitalize()} is\", result.shape[0])\n",
      "d:\\work\\me-biobert\\venv\\Lib\\site-packages\\sklearn\\metrics\\_classification.py:1731: UndefinedMetricWarning: Precision is ill-defined and being set to 0.0 in labels with no predicted samples. Use `zero_division` parameter to control this behavior.\n",
      "  _warn_prf(average, modifier, f\"{metric.capitalize()} is\", result.shape[0])\n",
      "d:\\work\\me-biobert\\venv\\Lib\\site-packages\\sklearn\\metrics\\_classification.py:1731: UndefinedMetricWarning: Precision is ill-defined and being set to 0.0 in labels with no predicted samples. Use `zero_division` parameter to control this behavior.\n",
      "  _warn_prf(average, modifier, f\"{metric.capitalize()} is\", result.shape[0])\n",
      "d:\\work\\me-biobert\\venv\\Lib\\site-packages\\sklearn\\metrics\\_classification.py:1731: UndefinedMetricWarning: Precision is ill-defined and being set to 0.0 in labels with no predicted samples. Use `zero_division` parameter to control this behavior.\n",
      "  _warn_prf(average, modifier, f\"{metric.capitalize()} is\", result.shape[0])\n",
      "d:\\work\\me-biobert\\venv\\Lib\\site-packages\\sklearn\\metrics\\_classification.py:1731: UndefinedMetricWarning: Precision is ill-defined and being set to 0.0 in labels with no predicted samples. Use `zero_division` parameter to control this behavior.\n",
      "  _warn_prf(average, modifier, f\"{metric.capitalize()} is\", result.shape[0])\n",
      "d:\\work\\me-biobert\\venv\\Lib\\site-packages\\sklearn\\metrics\\_classification.py:1731: UndefinedMetricWarning: Precision is ill-defined and being set to 0.0 in labels with no predicted samples. Use `zero_division` parameter to control this behavior.\n",
      "  _warn_prf(average, modifier, f\"{metric.capitalize()} is\", result.shape[0])\n",
      "d:\\work\\me-biobert\\venv\\Lib\\site-packages\\sklearn\\metrics\\_classification.py:1731: UndefinedMetricWarning: Precision is ill-defined and being set to 0.0 in labels with no predicted samples. Use `zero_division` parameter to control this behavior.\n",
      "  _warn_prf(average, modifier, f\"{metric.capitalize()} is\", result.shape[0])\n",
      "d:\\work\\me-biobert\\venv\\Lib\\site-packages\\sklearn\\metrics\\_classification.py:1731: UndefinedMetricWarning: Precision is ill-defined and being set to 0.0 in labels with no predicted samples. Use `zero_division` parameter to control this behavior.\n",
      "  _warn_prf(average, modifier, f\"{metric.capitalize()} is\", result.shape[0])\n",
      "d:\\work\\me-biobert\\venv\\Lib\\site-packages\\sklearn\\metrics\\_classification.py:1731: UndefinedMetricWarning: Precision is ill-defined and being set to 0.0 in labels with no predicted samples. Use `zero_division` parameter to control this behavior.\n",
      "  _warn_prf(average, modifier, f\"{metric.capitalize()} is\", result.shape[0])\n",
      "d:\\work\\me-biobert\\venv\\Lib\\site-packages\\sklearn\\metrics\\_classification.py:1731: UndefinedMetricWarning: Precision is ill-defined and being set to 0.0 in labels with no predicted samples. Use `zero_division` parameter to control this behavior.\n",
      "  _warn_prf(average, modifier, f\"{metric.capitalize()} is\", result.shape[0])\n",
      "d:\\work\\me-biobert\\venv\\Lib\\site-packages\\sklearn\\metrics\\_classification.py:1731: UndefinedMetricWarning: Precision is ill-defined and being set to 0.0 in labels with no predicted samples. Use `zero_division` parameter to control this behavior.\n",
      "  _warn_prf(average, modifier, f\"{metric.capitalize()} is\", result.shape[0])\n",
      "d:\\work\\me-biobert\\venv\\Lib\\site-packages\\sklearn\\metrics\\_classification.py:1731: UndefinedMetricWarning: Precision is ill-defined and being set to 0.0 in labels with no predicted samples. Use `zero_division` parameter to control this behavior.\n",
      "  _warn_prf(average, modifier, f\"{metric.capitalize()} is\", result.shape[0])\n"
     ]
    }
   ],
   "source": [
    "for model_info in model_training:\n",
    "    name=model_info['name']\n",
    "    model=model_info['model']\n",
    "\n",
    "    y_pred=model.predict(X_test)\n",
    "\n",
    "    accuracy=accuracy_score(y_test, y_pred)\n",
    "    \n",
    "    print(f'Model: {name}')\n",
    "    print(f\"Accuracy: {accuracy:.4f}\")\n",
    "    print(classification_report(y_test, y_pred))\n",
    "    print('=' * 50)\n"
   ]
  },
  {
   "cell_type": "code",
   "execution_count": 34,
   "id": "ae09ca90",
   "metadata": {},
   "outputs": [],
   "source": [
    "for model_info in model_training:\n",
    "    name=model_info['name']\n",
    "    model=model_info['model']\n",
    "    save_path=f\"../models/saved/tfidf/{name.replace(' ', '_').lower()}.joblib\"\n",
    "    joblib.dump(model, save_path)"
   ]
  },
  {
   "cell_type": "code",
   "execution_count": null,
   "id": "975341b0",
   "metadata": {},
   "outputs": [],
   "source": []
  }
 ],
 "metadata": {
  "kernelspec": {
   "display_name": "venv",
   "language": "python",
   "name": "python3"
  },
  "language_info": {
   "codemirror_mode": {
    "name": "ipython",
    "version": 3
   },
   "file_extension": ".py",
   "mimetype": "text/x-python",
   "name": "python",
   "nbconvert_exporter": "python",
   "pygments_lexer": "ipython3",
   "version": "3.12.5"
  }
 },
 "nbformat": 4,
 "nbformat_minor": 5
}
