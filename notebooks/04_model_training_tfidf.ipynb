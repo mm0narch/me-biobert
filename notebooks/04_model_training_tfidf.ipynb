{
 "cells": [
  {
   "cell_type": "code",
   "execution_count": 2,
   "id": "adde9477",
   "metadata": {},
   "outputs": [],
   "source": [
    "import sys\n",
    "\n",
    "sys.path.append(r'd:\\work\\paper-biobert')"
   ]
  },
  {
   "cell_type": "code",
   "execution_count": 17,
   "id": "e7d295d7",
   "metadata": {},
   "outputs": [],
   "source": [
    "import numpy as np\n",
    "from scipy import sparse\n",
    "from src.models import train_model, models\n",
    "import joblib"
   ]
  },
  {
   "cell_type": "code",
   "execution_count": 14,
   "id": "aeff1933",
   "metadata": {},
   "outputs": [
    {
     "name": "stdout",
     "output_type": "stream",
     "text": [
      "Train shape (9080, 4796)\n",
      "Test shape: (1135, 4796)\n",
      "Train labels: (9080,)\n",
      "Test labels: (1135,)\n"
     ]
    }
   ],
   "source": [
    "X_train=sparse.load_npz('../data/clean/tfidf_train.npz')\n",
    "X_test=sparse.load_npz('../data/clean/tfidf_test.npz')\n",
    "\n",
    "y_train=np.load('../data/clean/tfidf_ytrain.npz.npy')\n",
    "y_test=np.load('../data/clean/tfidf_ytest.npz.npy')\n",
    "\n",
    "print('Train shape', X_train.shape)\n",
    "print('Test shape:', X_test.shape)\n",
    "print('Train labels:', y_train.shape)\n",
    "print('Test labels:', y_test.shape)"
   ]
  },
  {
   "cell_type": "code",
   "execution_count": null,
   "id": "7d9526ca",
   "metadata": {},
   "outputs": [
    {
     "name": "stderr",
     "output_type": "stream",
     "text": [
      "Training models:  75%|███████▌  | 3/4 [00:20<00:05,  5.35s/model]"
     ]
    }
   ],
   "source": [
    "model_training=train_model(models, X_train, y_train)"
   ]
  },
  {
   "cell_type": "code",
   "execution_count": null,
   "id": "ae09ca90",
   "metadata": {},
   "outputs": [],
   "source": [
    "for model_info in model_training:\n",
    "    name = model_info['name']\n",
    "    model = model_info['model']\n",
    "    save_path = f\"models/saved/{name.replace(' ', '_').lower()}.joblib\"\n",
    "    joblib.dump(model, save_path)"
   ]
  }
 ],
 "metadata": {
  "kernelspec": {
   "display_name": "venv",
   "language": "python",
   "name": "python3"
  },
  "language_info": {
   "codemirror_mode": {
    "name": "ipython",
    "version": 3
   },
   "file_extension": ".py",
   "mimetype": "text/x-python",
   "name": "python",
   "nbconvert_exporter": "python",
   "pygments_lexer": "ipython3",
   "version": "3.12.5"
  }
 },
 "nbformat": 4,
 "nbformat_minor": 5
}
