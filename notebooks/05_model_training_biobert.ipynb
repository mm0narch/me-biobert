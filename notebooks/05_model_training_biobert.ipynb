{
 "cells": [
  {
   "cell_type": "code",
   "execution_count": 1,
   "id": "2fce1b18",
   "metadata": {},
   "outputs": [],
   "source": [
    "import sys\n",
    "\n",
    "sys.path.append(r'd:\\work\\paper-biobert')"
   ]
  },
  {
   "cell_type": "code",
   "execution_count": 2,
   "id": "41444301",
   "metadata": {},
   "outputs": [],
   "source": [
    "import numpy as np\n",
    "from src.models import train_model, models"
   ]
  },
  {
   "cell_type": "code",
   "execution_count": null,
   "id": "0831e9cd",
   "metadata": {},
   "outputs": [
    {
     "name": "stdout",
     "output_type": "stream",
     "text": [
      "Train shape: {9080}\n",
      "Test shape: {1135}\n",
      "Train labels: {9080}\n",
      "Test labels: {1135}\n"
     ]
    }
   ],
   "source": [
    "X_train=np.load('../data/clean/biobert_train.npy')\n",
    "y_train=np.load('../data/clean/biobert_ytrain.npy')\n",
    "\n",
    "X_test=np.load('../data/clean/biobert_test.npy')\n",
    "y_test=np.load('../data/clean/biobert_ytest.npy')\n",
    "\n",
    "print('Train shape:', X_train.shape)\n",
    "print('Test shape:', X_test.shape)\n",
    "print('Train labels:', y_train.shape)\n",
    "print('Test labels:', {len(y_test)})"
   ]
  },
  {
   "cell_type": "code",
   "execution_count": 4,
   "id": "05d08774",
   "metadata": {},
   "outputs": [
    {
     "name": "stderr",
     "output_type": "stream",
     "text": [
      "Training models: 100%|██████████| 4/4 [09:57<00:00, 149.42s/model]\n"
     ]
    }
   ],
   "source": [
    "model_training=train_model(models, X_train, y_train)"
   ]
  },
  {
   "cell_type": "code",
   "execution_count": null,
   "id": "75e9df6c",
   "metadata": {},
   "outputs": [],
   "source": []
  }
 ],
 "metadata": {
  "kernelspec": {
   "display_name": "venv",
   "language": "python",
   "name": "python3"
  },
  "language_info": {
   "codemirror_mode": {
    "name": "ipython",
    "version": 3
   },
   "file_extension": ".py",
   "mimetype": "text/x-python",
   "name": "python",
   "nbconvert_exporter": "python",
   "pygments_lexer": "ipython3",
   "version": "3.12.5"
  }
 },
 "nbformat": 4,
 "nbformat_minor": 5
}
